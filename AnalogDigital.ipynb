{
  "nbformat": 4,
  "nbformat_minor": 0,
  "metadata": {
    "colab": {
      "provenance": [],
      "collapsed_sections": []
    },
    "kernelspec": {
      "name": "python3",
      "display_name": "Python 3"
    },
    "language_info": {
      "name": "python"
    }
  },
  "cells": [
    {
      "cell_type": "markdown",
      "source": [
        "**QUESTION**\n"
      ],
      "metadata": {
        "id": "ofHaTQveI7aU"
      }
    },
    {
      "cell_type": "markdown",
      "source": [
        "**Python Line Count Exercise**\n",
        "\n",
        "Write a Python program that takes a directory as a required argument and a filename extension as optional argument that defaults to “.txt”. The program should locate all files with the given extension in the given directory and all its subdirectories to produce a list of all matching files with the numbers of lines within the file. The program should also output the total number of lines and the average number of lines per file. For example:\n",
        "\n",
        "./file1.txt\t\t10\n",
        "\n",
        "./file2.txt\t\t25\n",
        "\n",
        "./d1/d1fa.txt\t5\n",
        "\n",
        "./d1/d1fb.txt\t37\n",
        "\n",
        "===============\n",
        "\n",
        "Number of files found: \t4\n",
        "\n",
        "Total number of lines:\t\t77\n",
        "\n",
        "Average lines per file:\t19.25\n",
        "\n",
        "\n",
        "Your solution should come with a README, suitable unit tests and should pass pylint.\n",
        "\n",
        "Please make a git repository with your solution available at least two business days before the interview, so we have time to review it.\n"
      ],
      "metadata": {
        "id": "ZH3_f4Ng48q4"
      }
    },
    {
      "cell_type": "markdown",
      "source": [
        "**SOLUTION**"
      ],
      "metadata": {
        "id": "yv0bB_xoI-tB"
      }
    },
    {
      "cell_type": "markdown",
      "source": [
        "Step 1: Mount drive on Colab"
      ],
      "metadata": {
        "id": "XNjBXbRzIlRC"
      }
    },
    {
      "cell_type": "code",
      "execution_count": 2,
      "metadata": {
        "id": "tKB2dCI9U-4G",
        "colab": {
          "base_uri": "https://localhost:8080/"
        },
        "outputId": "18df031c-4c80-45b4-8b54-46c68255531b"
      },
      "outputs": [
        {
          "output_type": "stream",
          "name": "stdout",
          "text": [
            "Mounted at /content/drive\n"
          ]
        }
      ],
      "source": [
        "if 'google.colab' in str(get_ipython()):\n",
        "    from google.colab import drive\n",
        "    drive.mount('/content/drive')"
      ]
    },
    {
      "cell_type": "markdown",
      "source": [
        "Step 2: Import libraries and define countLine function."
      ],
      "metadata": {
        "id": "f-yM_EmDIso1"
      }
    },
    {
      "cell_type": "code",
      "source": [
        "import os \n",
        "import sys\n",
        "def countLine(x, ext = \".txt\"):\n",
        "  path = x\n",
        "  obj = os.scandir(path)\n",
        "  for entry in obj:\n",
        "      if entry.is_file():\n",
        "          if entry.name.endswith(ext):\n",
        "            names.append(entry.name)\n",
        "            filepath= entry.path\n",
        "            fp = open(filepath, 'rb')\n",
        "            l = len(fp.readlines())\n",
        "            lines.append(l)\n",
        "            print(entry.name, l)\n",
        "      if entry.is_dir():\n",
        "        countLine(entry.path, ext)"
      ],
      "metadata": {
        "id": "FfUAtw9yvPOK"
      },
      "execution_count": 6,
      "outputs": []
    },
    {
      "cell_type": "markdown",
      "source": [
        "Step 3: Define main function."
      ],
      "metadata": {
        "id": "TOb-9aFhI0Mq"
      }
    },
    {
      "cell_type": "code",
      "source": [
        "def main():\n",
        "  Pathdir = input(\"Give path of directory\")    # take path of directory as input from user.\n",
        "  ext = input(\"Give extention for filename\")   # take file extention as input from user.\n",
        "  countLine(Pathdir, ext)\n",
        "  print(\"Number of files found: \",len(names))     # print total number of text files found.\n",
        "  total = 0   # Total number of lines in all text files.\n",
        "  for l in lines:\n",
        "    total = total + l\n",
        "  print(\"Total Number of lines: \",total)\n",
        "  print(\"Average lines per file:\",total/ len(names))"
      ],
      "metadata": {
        "id": "7vyZyR-1VWLZ"
      },
      "execution_count": 7,
      "outputs": []
    },
    {
      "cell_type": "code",
      "source": [
        "names = []   # list stores names of all text files.\n",
        "lines = []   # list stores number of lines in each text file.\n",
        "main()"
      ],
      "metadata": {
        "colab": {
          "base_uri": "https://localhost:8080/"
        },
        "id": "p6HTwdcJ0Rwa",
        "outputId": "9d3a2e82-8bae-42a3-dc1d-96a73821711d"
      },
      "execution_count": 8,
      "outputs": [
        {
          "output_type": "stream",
          "name": "stdout",
          "text": [
            "Give path of directory/content/drive/MyDrive/demo\n",
            "Give extention for filename.txt\n",
            "text1.txt 2\n",
            "text2.txt 4\n",
            "Number of files found:  2\n",
            "Total Number of lines:  6\n",
            "Average lines per file: 3.0\n"
          ]
        }
      ]
    }
  ]
}